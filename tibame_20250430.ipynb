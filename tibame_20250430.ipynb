{
  "nbformat": 4,
  "nbformat_minor": 0,
  "metadata": {
    "colab": {
      "provenance": [],
      "mount_file_id": "1AKOpPUSQbfJfxDCBau5s6B3uHYeg4pMe",
      "authorship_tag": "ABX9TyO/QghsFNVKTY+fWszGh89l",
      "include_colab_link": true
    },
    "kernelspec": {
      "name": "python3",
      "display_name": "Python 3"
    },
    "language_info": {
      "name": "python"
    }
  },
  "cells": [
    {
      "cell_type": "markdown",
      "metadata": {
        "id": "view-in-github",
        "colab_type": "text"
      },
      "source": [
        "<a href=\"https://colab.research.google.com/github/PeiYuJi/tibame/blob/main/tibame_20250430.ipynb\" target=\"_parent\"><img src=\"https://colab.research.google.com/assets/colab-badge.svg\" alt=\"Open In Colab\"/></a>"
      ]
    },
    {
      "cell_type": "code",
      "source": [
        "import json\n",
        "import urllib.request as req\n",
        "import bs4 as bs\n",
        "\n",
        "def save_post_meta(url):\n",
        "    # url = \"https://www.ptt.cc/bbs/Beauty/M.1745582404.A.011.html\"\n",
        "    r = req.Request(url)\n",
        "    r.add_header(\"User-Agent\", \"Mozilla/5.0 (Windows NT 10.0; Win64; x64) AppleWebKit/537.36 (KHTML, like Gecko) Chrome/135.0.0.0 Safari/537.36 Edg/135.0.0.0\")\n",
        "    resp = req.urlopen(r)\n",
        "    html = bs.BeautifulSoup(resp.read())\n",
        "    # 作者/看版/標題/日期\n",
        "    metas = html.find_all(\"span\", {\"class\":\"article-meta-value\"})\n",
        "    uid_text = metas[0].text\n",
        "    board_text = metas[1].text\n",
        "    title_text = metas[2].text\n",
        "    time_text = metas[3].text\n",
        "    # print(uid_text, board_text, title_text, time_text, sep=\"\\n\")\n",
        "    # 每個推虛文 [{\"type\":\"\", \"id\":\"\", \"text\":\"\", \"date_ip\":\"\"}]\n",
        "    # JSON格式: {\"左者\": \"看板\": \"表提\": \"推虛文\":[]}\n",
        "    push_list = []\n",
        "    pushes = html.find_all(\"div\", {\"class\":\"push\"})\n",
        "    for push in pushes:\n",
        "        push_meta = push.find_all(\"span\")\n",
        "        # 推噓處理\n",
        "        push_type_text = push_meta[0].text\n",
        "        if \"推\" in push_type_text:\n",
        "            push_type_text = 1\n",
        "        elif \"噓\" in push_type_text:\n",
        "            push_type_text = -1\n",
        "        else:\n",
        "            push_type_text = 0\n",
        "        # 推噓id\n",
        "        push_id_text = push_meta[1].text\n",
        "        # 推噓內容\n",
        "        push_content_text = push_meta[2].text.replace(\": \", \"\")\n",
        "        # 推噓ipdate\n",
        "        push_ipdate_text = push_meta[3].text.strip()\n",
        "        # print(push_type_text, push_id_text, push_content_text, push_ipdate_text, sep=\"\\t\")\n",
        "        push_data = {\n",
        "            \"type\":push_type_text,\n",
        "            \"id\":push_id_text,\n",
        "            \"text\":push_content_text,\n",
        "            \"date_ip\":push_ipdate_text\n",
        "        }\n",
        "        push_list.append(push_data)\n",
        "    # print(push_list)\n",
        "    post = {\n",
        "        \"作者\":uid_text,\n",
        "        \"看板\":board_text,\n",
        "        \"標題\":title_text,\n",
        "        \"日期\":time_text,\n",
        "        \"推噓文\":push_list,\n",
        "    }\n",
        "    # print(post)\n",
        "    fn = url.split(\"/\")[-1] + \".json\"\n",
        "    with open(fn, \"w\", encoding=\"utf-8\") as f:\n",
        "        json.dump(post, f, ensure_ascii=False, indent=4)"
      ],
      "metadata": {
        "id": "w1wlThIsoXwo"
      },
      "execution_count": null,
      "outputs": []
    },
    {
      "cell_type": "markdown",
      "source": [
        "當你發現你沒有class/id做篩選的時候\n",
        "1. 找他老爸\n",
        "2. 自己想辦法篩選"
      ],
      "metadata": {
        "id": "qYPbVv3qoeu_"
      }
    },
    {
      "cell_type": "code",
      "source": [
        "import json\n",
        "import urllib.request as req\n",
        "import bs4 as bs\n",
        "import os\n",
        "\n",
        "def save_post_img(url):\n",
        "    # url = \"https://www.ptt.cc/bbs/Beauty/M.1745582404.A.011.html\"\n",
        "    # prepare directory\n",
        "    dn = url.split(\"/\")[-1]\n",
        "    if not os.path.exists(dn):\n",
        "        os.makedirs(dn)\n",
        "\n",
        "    r = req.Request(url)\n",
        "    r.add_header(\"User-Agent\", \"Mozilla/5.0 (Windows NT 10.0; Win64; x64) AppleWebKit/537.36 (KHTML, like Gecko) Chrome/135.0.0.0 Safari/537.36 Edg/135.0.0.0\")\n",
        "    resp = req.urlopen(r)\n",
        "    html = bs.BeautifulSoup(resp.read())\n",
        "\n",
        "    allow_sub = [\"jpg\", \"jpeg\", \"png\", \"gif\"]\n",
        "    link_list = html.find_all(\"a\")\n",
        "    for link in link_list:\n",
        "        link_href = link[\"href\"]\n",
        "        sub = link_href.split(\".\")[-1]\n",
        "        # lower是字串的專屬功能\n",
        "        if sub.lower() in allow_sub:\n",
        "            img_url = link_href\n",
        "            # 如果對面什麼都沒檢查, 最簡單的一訂是urlretrieve\n",
        "            r = req.Request(img_url)\n",
        "            r.add_header(\"User-Agent\", \"Mozilla/5.0 (Windows NT 10.0; Win64; x64) AppleWebKit/537.36 (KHTML, like Gecko) Chrome/135.0.0.0 Safari/537.36 Edg/135.0.0.0\")\n",
        "            img_resp = req.urlopen(r)\n",
        "            img_content = img_resp.read()\n",
        "            # 存檔的時候 你要開啟檔案在本地端, 把剛才的內容寫進去\n",
        "            # 之前教你open的時候, 第二個參數 w r  + encoding=\"utf-8\" -> for 純文字\n",
        "            #                              wb rb -> for 非純文字\n",
        "            fn = dn + \"/\" + img_url.split(\"/\")[-1]\n",
        "            with open(fn, \"wb\") as f:\n",
        "                f.write(img_content)"
      ],
      "metadata": {
        "id": "R1QfRYT4ocLd"
      },
      "execution_count": null,
      "outputs": []
    },
    {
      "cell_type": "code",
      "source": [
        "# os.path這件事我們後面會解釋\n",
        "import os\n",
        "# 如果資料夾不存在, 就創起來\n",
        "if not os.path.exists(\"a/b\"):\n",
        "    os.makedirs(\"a/b\")\n",
        "\n",
        "img_url = \"https://i.imgur.com/S20cVi5.jpeg\"\n",
        "# 如果對面什麼都沒檢查, 最簡單的一訂是urlretrieve\n",
        "r = req.Request(img_url)\n",
        "r.add_header(\"User-Agent\", \"Mozilla/5.0 (Windows NT 10.0; Win64; x64) AppleWebKit/537.36 (KHTML, like Gecko) Chrome/135.0.0.0 Safari/537.36 Edg/135.0.0.0\")\n",
        "img_resp = req.urlopen(r)\n",
        "img_content = img_resp.read()\n",
        "# 存檔的時候 你要開啟檔案在本地端, 把剛才的內容寫進去\n",
        "# 之前教你open的時候, 第二個參數 w r  + encoding=\"utf-8\" -> for 純文字\n",
        "#                              wb rb -> for 非純文字\n",
        "with open(\"a/b/test.png\", \"wb\") as f:\n",
        "    f.write(img_content)"
      ],
      "metadata": {
        "id": "cOuhEIWgoleN"
      },
      "execution_count": null,
      "outputs": []
    },
    {
      "cell_type": "code",
      "source": [
        "import json\n",
        "import urllib.request as req\n",
        "import bs4 as bs\n",
        "import os\n",
        "\n",
        "url = \"https://www.ptt.cc/bbs/Beauty/index4000.html\"\n",
        "r = req.Request(url)\n",
        "r.add_header(\"User-Agent\", \"Mozilla/5.0 (Windows NT 10.0; Win64; x64) AppleWebKit/537.36 (KHTML, like Gecko) Chrome/135.0.0.0 Safari/537.36 Edg/135.0.0.0\")\n",
        "resp = req.urlopen(r)\n",
        "html = bs.BeautifulSoup(resp.read())\n",
        "\n",
        "div_list = html.find_all(\"div\", {\"class\":\"title\"})\n",
        "for div in div_list:\n",
        "    post_link = div.find(\"a\")\n",
        "    if not post_link == None:\n",
        "        post_link_url = \"https://www.ptt.cc\" + post_link[\"href\"]\n",
        "        print(post_link_url)\n",
        "        save_post_meta(post_link_url)\n",
        "        save_post_img(post_link_url)\n"
      ],
      "metadata": {
        "colab": {
          "base_uri": "https://localhost:8080/",
          "height": 540
        },
        "id": "DA9Y_9IB4LdG",
        "outputId": "cf60a28e-01d0-47d1-b31d-46789d3a7eeb"
      },
      "execution_count": null,
      "outputs": [
        {
          "output_type": "stream",
          "name": "stdout",
          "text": [
            "https://www.ptt.cc/bbs/Beauty/M.1748772693.A.772.html\n",
            "https://www.ptt.cc/bbs/Beauty/M.1748773028.A.FA3.html\n",
            "https://www.ptt.cc/bbs/Beauty/M.1748777296.A.1A9.html\n",
            "https://www.ptt.cc/bbs/Beauty/M.1748778750.A.B22.html\n",
            "https://www.ptt.cc/bbs/Beauty/M.1748778937.A.761.html\n",
            "https://www.ptt.cc/bbs/Beauty/M.1748779747.A.099.html\n",
            "https://www.ptt.cc/bbs/Beauty/M.1748780185.A.9D7.html\n",
            "https://www.ptt.cc/bbs/Beauty/M.1748780278.A.9F9.html\n",
            "https://www.ptt.cc/bbs/Beauty/M.1748780929.A.004.html\n",
            "https://www.ptt.cc/bbs/Beauty/M.1748783248.A.F04.html\n",
            "https://www.ptt.cc/bbs/Beauty/M.1663845030.A.EF9.html\n",
            "https://www.ptt.cc/bbs/Beauty/M.1621836193.A.468.html\n",
            "https://www.ptt.cc/bbs/Beauty/M.1666371664.A.B29.html\n"
          ]
        },
        {
          "output_type": "error",
          "ename": "IndexError",
          "evalue": "list index out of range",
          "traceback": [
            "\u001b[0;31m---------------------------------------------------------------------------\u001b[0m",
            "\u001b[0;31mIndexError\u001b[0m                                Traceback (most recent call last)",
            "\u001b[0;32m<ipython-input-19-0992875458d8>\u001b[0m in \u001b[0;36m<cell line: 0>\u001b[0;34m()\u001b[0m\n\u001b[1;32m     16\u001b[0m         \u001b[0mpost_link_url\u001b[0m \u001b[0;34m=\u001b[0m \u001b[0;34m\"https://www.ptt.cc\"\u001b[0m \u001b[0;34m+\u001b[0m \u001b[0mpost_link\u001b[0m\u001b[0;34m[\u001b[0m\u001b[0;34m\"href\"\u001b[0m\u001b[0;34m]\u001b[0m\u001b[0;34m\u001b[0m\u001b[0;34m\u001b[0m\u001b[0m\n\u001b[1;32m     17\u001b[0m         \u001b[0mprint\u001b[0m\u001b[0;34m(\u001b[0m\u001b[0mpost_link_url\u001b[0m\u001b[0;34m)\u001b[0m\u001b[0;34m\u001b[0m\u001b[0;34m\u001b[0m\u001b[0m\n\u001b[0;32m---> 18\u001b[0;31m         \u001b[0msave_post_meta\u001b[0m\u001b[0;34m(\u001b[0m\u001b[0mpost_link_url\u001b[0m\u001b[0;34m)\u001b[0m\u001b[0;34m\u001b[0m\u001b[0;34m\u001b[0m\u001b[0m\n\u001b[0m\u001b[1;32m     19\u001b[0m         \u001b[0msave_post_img\u001b[0m\u001b[0;34m(\u001b[0m\u001b[0mpost_link_url\u001b[0m\u001b[0;34m)\u001b[0m\u001b[0;34m\u001b[0m\u001b[0;34m\u001b[0m\u001b[0m\n",
            "\u001b[0;32m<ipython-input-16-c3b06ec909a5>\u001b[0m in \u001b[0;36msave_post_meta\u001b[0;34m(url)\u001b[0m\n\u001b[1;32m     11\u001b[0m     \u001b[0;31m# 作者/看版/標題/日期\u001b[0m\u001b[0;34m\u001b[0m\u001b[0;34m\u001b[0m\u001b[0m\n\u001b[1;32m     12\u001b[0m     \u001b[0mmetas\u001b[0m \u001b[0;34m=\u001b[0m \u001b[0mhtml\u001b[0m\u001b[0;34m.\u001b[0m\u001b[0mfind_all\u001b[0m\u001b[0;34m(\u001b[0m\u001b[0;34m\"span\"\u001b[0m\u001b[0;34m,\u001b[0m \u001b[0;34m{\u001b[0m\u001b[0;34m\"class\"\u001b[0m\u001b[0;34m:\u001b[0m\u001b[0;34m\"article-meta-value\"\u001b[0m\u001b[0;34m}\u001b[0m\u001b[0;34m)\u001b[0m\u001b[0;34m\u001b[0m\u001b[0;34m\u001b[0m\u001b[0m\n\u001b[0;32m---> 13\u001b[0;31m     \u001b[0muid_text\u001b[0m \u001b[0;34m=\u001b[0m \u001b[0mmetas\u001b[0m\u001b[0;34m[\u001b[0m\u001b[0;36m0\u001b[0m\u001b[0;34m]\u001b[0m\u001b[0;34m.\u001b[0m\u001b[0mtext\u001b[0m\u001b[0;34m\u001b[0m\u001b[0;34m\u001b[0m\u001b[0m\n\u001b[0m\u001b[1;32m     14\u001b[0m     \u001b[0mboard_text\u001b[0m \u001b[0;34m=\u001b[0m \u001b[0mmetas\u001b[0m\u001b[0;34m[\u001b[0m\u001b[0;36m1\u001b[0m\u001b[0;34m]\u001b[0m\u001b[0;34m.\u001b[0m\u001b[0mtext\u001b[0m\u001b[0;34m\u001b[0m\u001b[0;34m\u001b[0m\u001b[0m\n\u001b[1;32m     15\u001b[0m     \u001b[0mtitle_text\u001b[0m \u001b[0;34m=\u001b[0m \u001b[0mmetas\u001b[0m\u001b[0;34m[\u001b[0m\u001b[0;36m2\u001b[0m\u001b[0;34m]\u001b[0m\u001b[0;34m.\u001b[0m\u001b[0mtext\u001b[0m\u001b[0;34m\u001b[0m\u001b[0;34m\u001b[0m\u001b[0m\n",
            "\u001b[0;31mIndexError\u001b[0m: list index out of range"
          ]
        }
      ]
    },
    {
      "cell_type": "code",
      "source": [
        "# 如果你要把雲端硬碟當成隨身碟\n",
        "dn = \"drive/MyDrive/tiba0430\"\n",
        "if not os.path.exists(dn):\n",
        "    os.makedirs(dn)\n",
        "fn = dn + \"/\" + \"a.txt\"\n",
        "with open(fn, \"w\", encoding=\"utf-8\") as f:\n",
        "    f.write(\"abcde\")"
      ],
      "metadata": {
        "id": "Y0b3zRDHopA5"
      },
      "execution_count": null,
      "outputs": []
    },
    {
      "cell_type": "code",
      "source": [
        "!zip -r /content/file.zip /content/M.1745582404.A.011.html"
      ],
      "metadata": {
        "colab": {
          "base_uri": "https://localhost:8080/"
        },
        "id": "J8Vy53osopDt",
        "outputId": "86fc76e8-549e-4988-a543-d9eb12cc8caf"
      },
      "execution_count": null,
      "outputs": [
        {
          "output_type": "stream",
          "name": "stdout",
          "text": [
            "\tzip warning: name not matched: /content/M.1745582404.A.011.html\n",
            "\n",
            "zip error: Nothing to do! (try: zip -r /content/file.zip . -i /content/M.1745582404.A.011.html)\n"
          ]
        }
      ]
    },
    {
      "cell_type": "code",
      "source": [
        "import glob\n",
        "import json\n",
        "import pandas as pd\n",
        "# [{}, {}, {}]\n",
        "table = []\n",
        "for fn in glob.glob(\"M.*.json\"):\n",
        "    with open(fn, \"r\", encoding=\"utf-8\") as f:\n",
        "        data = json.loads(f.read())\n",
        "        table.append(data)\n",
        "\n",
        "df = pd.json_normalize(table)\n",
        "df.to_csv(\"ptt.csv\", encoding=\"utf-8\")"
      ],
      "metadata": {
        "id": "UWsMyqQMopGS"
      },
      "execution_count": null,
      "outputs": []
    },
    {
      "cell_type": "markdown",
      "source": [
        "0. 中文分析: 分詞 我喜歡你-> 我/喜歡/你\n",
        "抓出關鍵詞:\n",
        "1. 出現次數: 越高, 越重要\n",
        "2. 平常出現的頻率: 越低, 越重要\n",
        "\n",
        "詞彙重要性(TF-IDF): 次數(TF) * 1/平常出現頻率(IDF)\n",
        "\n",
        "分詞:  \n",
        "1. 辭典做初步話分(越大越好)\n",
        "2. (混淆/不知道) 利用上下文以及機率算法來算出哪種機率高\n",
        "\n",
        "混淆:乒乓球拍賣掉了"
      ],
      "metadata": {
        "id": "eyV23qydo10V"
      }
    },
    {
      "cell_type": "code",
      "source": [
        "news = \"\"\"港星謝霆鋒與張柏芝育有兩子謝振軒（Lucas）及謝振南（Quintus），可惜夫妻倆自2011年與結束5年婚姻。謝霆鋒近期在香港啟德體育場舉辦一連4場演唱會，繼日前女友王菲低調捧場之外，媽媽狄波拉也帶著Lucas、Quintus一起在台下聆聽。近日更有港媒報導指出，謝霆鋒的17歲長子Lucas已考入劍橋大學物理系。\n",
        "\n",
        "謝霆鋒近期在香港啟德體育場舉辦一連4場演唱會，媽媽狄波拉也帶著Lucas、Quintus一起在台下聆聽。（圖／翻攝自謝霆鋒微博、小紅書）\n",
        "謝霆鋒近期在香港啟德體育場舉辦一連4場演唱會，媽媽狄波拉也帶著Lucas、Quintus一起在台下聆聽。（圖／翻攝自謝霆鋒微博、小紅書）\n",
        "▲▼謝霆鋒近期在香港啟德體育場舉辦一連4場演唱會，媽媽狄波拉也帶著Lucas、Quintus一起在台下聆聽。（圖／翻攝自謝霆鋒微博、小紅書）\n",
        "\n",
        "謝霆鋒近期在香港啟德體育場舉辦一連4場演唱會，媽媽狄波拉也帶著Lucas、Quintus一起在台下聆聽。（圖／翻攝自謝霆鋒微博、小紅書）\n",
        "謝霆鋒近期在香港啟德體育場舉辦一連4場演唱會，媽媽狄波拉也帶著Lucas、Quintus一起在台下聆聽。（圖／翻攝自謝霆鋒微博、小紅書）\n",
        "謝霆鋒與張柏芝二人一直以來非常重視兩名兒子的成長和教育。大兒子Lucas有別於一般人對「星二代」的刻板印象，學業成績不俗，他與弟弟Quintus就讀位於沙田石門的基督教國際學校（International Christian School，ICS）。據了解，Lucas於15歲時花3年時間便完成5年的課程，而弟弟Quintus則取得全A成績，在學業方面表現相當出色。近日有港媒報導指，長子Lucas考入英國劍橋大學物理系，但父親謝霆鋒和母親張柏芝均未能證實消息。\n",
        "\n",
        "謝霆鋒近期在香港啟德體育場舉辦一連4場演唱會，媽媽狄波拉也帶著Lucas、Quintus一起在台下聆聽。（圖／翻攝自微博）\n",
        "謝霆鋒近期在香港啟德體育場舉辦一連4場演唱會，媽媽狄波拉也帶著Lucas、Quintus一起在台下聆聽。（圖／翻攝自微博）\n",
        "▲謝霆鋒近期在香港啟德體育場舉辦一連4場演唱會，媽媽狄波拉也帶著Lucas、Quintus一起在台下聆聽。（圖／翻攝自微博）\n",
        "\n",
        "謝霆鋒在演唱會前，下午與兩名兒子到啟德商場內一間餐廳吃飯，被大批網友野生捕獲。（圖／翻攝自微博）\n",
        "謝霆鋒在演唱會前，下午與兩名兒子到啟德商場內一間餐廳吃飯，被大批網友野生捕獲。（圖／翻攝自微博）\n",
        "▲謝霆鋒在演唱會前，下午與兩名兒子到啟德商場內一間餐廳吃飯，被大批網友野生捕獲。（圖／翻攝自微博）\n",
        "\n",
        "謝霆鋒在27日演唱會尾場開唱前，下午與兩名兒子到啟德商場內一間餐廳吃飯，被大批網友野生捕獲。可見謝霆鋒與兩名兒子先後進入食店，現場有客人即時認出三人。兩名兒子坐一排，謝霆鋒則坐在二人對面，謝霆鋒與兩子說話，而兩名兒子亦有回應父親，父子三人言談甚歡和諧。而當三人用餐完畢後便離開，謝霆鋒行最前，隨後的是Quintus及Lucas，Lucas再次面露微笑與現場熱情的粉絲打招呼，獲網友大讚親切有禮。\"\"\"\n"
      ],
      "metadata": {
        "id": "AcDstlRCopI3"
      },
      "execution_count": null,
      "outputs": []
    },
    {
      "cell_type": "code",
      "source": [
        "import jieba\n",
        "import urllib.request as req\n",
        "url = \"https://github.com/fxsjy/jieba/raw/master/extra_dict/dict.txt.big\"\n",
        "req.urlretrieve(url, \"dict.txt.big\")\n",
        "jieba.set_dictionary(\"dict.txt.big\")\n",
        "\" \".join(jieba.cut(news))"
      ],
      "metadata": {
        "id": "mtAazdXmopLV"
      },
      "execution_count": null,
      "outputs": []
    },
    {
      "cell_type": "code",
      "source": [
        "import jieba.analyse\n",
        "\n",
        "jieba.analyse.extract_tags(news)"
      ],
      "metadata": {
        "id": "o9_BMVDeopN_"
      },
      "execution_count": null,
      "outputs": []
    }
  ]
}