{
  "cells": [
    {
      "cell_type": "markdown",
      "metadata": {
        "id": "view-in-github",
        "colab_type": "text"
      },
      "source": [
        "<a href=\"https://colab.research.google.com/github/PeiYuJi/tibame/blob/main/tibame_20250416.ipynb\" target=\"_parent\"><img src=\"https://colab.research.google.com/assets/colab-badge.svg\" alt=\"Open In Colab\"/></a>"
      ]
    },
    {
      "cell_type": "markdown",
      "metadata": {
        "id": "KMA8ZIsulHe2"
      },
      "source": [
        "1. repl.it: 完整.py, 第一行直行到最後一行\n",
        "2. colab: 使用的是python的一個函式庫jupyter, 它可以讓你寫一段執行一段, 這個時候附檔名通常會是.ipynb"
      ]
    },
    {
      "cell_type": "code",
      "execution_count": null,
      "metadata": {
        "id": "DHLg56E8lH5R"
      },
      "outputs": [],
      "source": [
        "# 迴圈: 次數<後面, i=0...9\n",
        "i = 0\n",
        "while i < 10:\n",
        "    n = 20 - 2 * i\n",
        "    print(n)\n",
        "    i = i + 1"
      ]
    },
    {
      "cell_type": "code",
      "execution_count": null,
      "metadata": {
        "id": "AzxynOiklKn_"
      },
      "outputs": [],
      "source": [
        "# list型態:\n",
        "a = [90, 20, 30]\n",
        "print(a[2])\n",
        "# 拿了做事再設定回去\n",
        "# b = 10\n",
        "# b = b + 2\n",
        "a[0] = 180\n",
        "print(a)\n",
        "a[0] = a[0] + 50\n",
        "print(a)"
      ]
    },
    {
      "cell_type": "code",
      "execution_count": null,
      "metadata": {
        "id": "cUwAiriilSMT"
      },
      "outputs": [],
      "source": [
        "# 雙層迴圈\n",
        "# 你一定要先固定一個東西\n",
        "# 九九乘法 n1 * n2 = ?\n",
        "# 我先固定 n1\n",
        "# 之前叫你名字用i, 如果是第二層用j\n",
        "i = 0\n",
        "while i < 9:\n",
        "    n1 = i + 1\n",
        "    # 針對這n1做九次\n",
        "    j = 0\n",
        "    while j < 9:\n",
        "        n2 = j + 1\n",
        "        result = n1 * n2\n",
        "        print(n1, \"*\", n2, \"=\", result)\n",
        "        j = j + 1\n",
        "    i = i + 1"
      ]
    },
    {
      "cell_type": "code",
      "execution_count": null,
      "metadata": {
        "id": "z4p5XFojlUQh"
      },
      "outputs": [],
      "source": [
        "# 參考: 如果是for...in版本\n",
        "for i in range(9):\n",
        "    n1 = i + 1\n",
        "    for j in range(9):\n",
        "        n2 = j + 1\n",
        "        result = n1 * n2\n",
        "        print(n1, \"*\", n2, \"=\", result)"
      ]
    },
    {
      "cell_type": "code",
      "execution_count": null,
      "metadata": {
        "colab": {
          "base_uri": "https://localhost:8080/"
        },
        "id": "YAgUAnSelV8Z",
        "outputId": "e467cb5e-2bce-4b02-cd4c-7d4d104da059"
      },
      "outputs": [
        {
          "name": "stdout",
          "output_type": "stream",
          "text": [
            "1.3\n",
            "0.2\n"
          ]
        }
      ],
      "source": [
        "# 二維list以及拿東西的座號\n",
        "game = [\n",
        "    [0.1, 0.2, 0.3],\n",
        "    [1.1, 1.2, 1.3],\n",
        "    [2.1, 2.2, 2.3]\n",
        "]\n",
        "print(game[1][2])  # 1.3\n",
        "print(game[0][1])  # 0.2"
      ]
    },
    {
      "cell_type": "markdown",
      "metadata": {
        "id": "WAvE-NYmlYEx"
      },
      "source": [
        "OOXX\n",
        "把問題簡化\n",
        "1. 輪流選擇位置(最後做)\n",
        "2. 確認當你下了這個位置以後, 你有沒有贏(橫, 直, 斜*2)"
      ]
    },
    {
      "cell_type": "code",
      "execution_count": null,
      "metadata": {
        "id": "mjO3lg4MlaTG"
      },
      "outputs": [],
      "source": [
        "# # 還未被選擇: -1\n",
        "# # 被選擇為0: O\n",
        "# # 被選擇為1: X\n",
        "# # 橫的叫row, 直的叫col\n",
        "# board = [\n",
        "#     [ 0,  0,  0],\n",
        "#     [-1, -1, -1],\n",
        "#     [-1, -1, -1]\n",
        "# ]\n",
        "\n",
        "# # 我有兩種想法\n",
        "# # 1. 她下的時候, 我從她下的位置去決定這步會不會有連線出線\n",
        "# # 2. 我直接檢查整個圖片, 看看有沒有連線發生(o)\n",
        "# row = 0\n",
        "# # 我先把這一列的第一個拿出來, 三個(兩個)東西都要跟這個第一個一樣\n",
        "# target = board[row][0]\n",
        "# # 我準備一個值, 我先假設他是連成一條線的, 如果她不是, 我就馬上把這個值設定成False, 結束\n",
        "# line = True\n",
        "# j = 0\n",
        "# while j < 3:\n",
        "#     col = j\n",
        "#     if not board[row][col] == target:\n",
        "#         line = False\n",
        "#         break\n",
        "#     # 檢查這三個是否為同個東西\n",
        "#     j = j + 1\n",
        "# print(line)"
      ]
    },
    {
      "cell_type": "code",
      "execution_count": null,
      "metadata": {
        "id": "qBfBiCM_lcUj"
      },
      "outputs": [],
      "source": [
        "# 雖然上面可以擴充, 但我覺得可讀性相對來說有點差, 所以我犧牲擴充性\n",
        "# 橫的確認\n",
        "board = [\n",
        "    [ 0,  0,  0],\n",
        "    [-1, -1, -1],\n",
        "    [ 1,  1,  1]\n",
        "]\n",
        "i = 0\n",
        "while i < 3:\n",
        "    row = i\n",
        "    if not board[row][0] == -1:\n",
        "        if board[row][0] == board[row][1] == board[row][2]:\n",
        "            print(row, \"連線了\")\n",
        "        else:\n",
        "            print(row, \"沒有連線\")\n",
        "    else:\n",
        "        print(row, \"頭一個沒被選擇\")\n",
        "    i = i + 1"
      ]
    },
    {
      "cell_type": "code",
      "execution_count": null,
      "metadata": {
        "id": "JK8ZO9C41F2o"
      },
      "outputs": [],
      "source": [
        "# 直的確認\n",
        "board = [\n",
        "    [ 0, -1,  1],\n",
        "    [ 0, -1,  1],\n",
        "    [ 0, -1,  1]\n",
        "]\n",
        "i = 0\n",
        "while i < 3:\n",
        "    col = i\n",
        "    if not board[0][col] == -1:\n",
        "        if board[0][col] == board[1][col] == board[2][col]:\n",
        "            print(col, \"連線了\")\n",
        "        else:\n",
        "            print(col, \"沒有連線\")\n",
        "    else:\n",
        "        print(col, \"頭一個沒被選擇\")\n",
        "    i = i + 1\n"
      ]
    },
    {
      "cell_type": "markdown",
      "metadata": {
        "id": "tqCzoQVw1UtJ"
      },
      "source": [
        "0 連線了\n",
        "1 頭一個沒被選擇\n",
        "2 連線了"
      ]
    },
    {
      "cell_type": "code",
      "execution_count": null,
      "metadata": {
        "id": "UOU6XXiI1L5Y"
      },
      "outputs": [],
      "source": [
        "# board = [\n",
        "#     [  0, -1, -1],\n",
        "#     [ -1,  0, -1],\n",
        "#     [ -1, -1,  0]\n",
        "# ]\n",
        "board = [\n",
        "    [ -1, -1,  0],\n",
        "    [ -1,  0, -1],\n",
        "    [  0, -1, -1]\n",
        "]\n",
        "if not board[0][0] == -1:\n",
        "    if board[0][0] == board[1][1] == board[2][2]:\n",
        "        print(\"左上到右下連線\")\n",
        "    else:\n",
        "        print(\"沒有連線\")\n",
        "else:\n",
        "    print(\"左上沒被選\")\n",
        "\n",
        "if not board[0][2] == -1:\n",
        "    if board[0][2] == board[1][1] == board[2][0]:\n",
        "        print(\"右上到左下連線\")\n",
        "    else:\n",
        "        print(\"沒有連線\")\n",
        "else:\n",
        "    print(\"右上沒被選\")"
      ]
    },
    {
      "cell_type": "code",
      "execution_count": null,
      "metadata": {
        "colab": {
          "base_uri": "https://localhost:8080/"
        },
        "id": "HdB_8vRI1uf0",
        "outputId": "6799820f-3bd0-4674-ba5a-96f98d7bafd8"
      },
      "outputs": [
        {
          "name": "stdout",
          "output_type": "stream",
          "text": [
            "_ _ O \n",
            "_ O _ \n",
            "O X X \n"
          ]
        }
      ],
      "source": [
        "# 印出盤面\n",
        "board = [\n",
        "    [ -1, -1,  0],\n",
        "    [ -1,  0, -1],\n",
        "    [  0,  1,  1]\n",
        "]\n",
        "trans = [\"O\", \"X\"]\n",
        "\n",
        "i = 0\n",
        "while i < 3:\n",
        "    row = i\n",
        "    # 把這個row的東西印成一行\n",
        "    line = \"\"\n",
        "    j = 0\n",
        "    while j < 3:\n",
        "        player = board[row][j]\n",
        "        if not player == -1:\n",
        "            line = line + trans[player] + \" \"\n",
        "        else:\n",
        "            # 沒被選擇的畫, 我們就用_來表示\n",
        "            line = line + \"_\" + \" \"\n",
        "        j = j + 1\n",
        "    print(line)\n",
        "    i = i + 1"
      ]
    },
    {
      "cell_type": "code",
      "execution_count": null,
      "metadata": {
        "id": "TaXQ2yJB1xxW"
      },
      "outputs": [],
      "source": [
        "import random\n",
        "# round % 2 == 0: 奇數回合\n",
        "# round % 2 == 1: 偶數回合\n",
        "board = [\n",
        "    [ -1, -1, -1],\n",
        "    [ -1, -1, -1],\n",
        "    [ -1, -1, -1]\n",
        "]\n",
        "round = 0\n",
        "while True:\n",
        "    # 有選過的不能再選\n",
        "    while True:\n",
        "        if round % 2 == 0:\n",
        "            row_chosen = int(input(\"選擇第幾列\"))\n",
        "            col_chosen = int(input(\"選擇第幾行\"))\n",
        "        else:\n",
        "            row_chosen = random.randint(0, 2)\n",
        "            col_chosen = random.randint(0, 2)\n",
        "        # 檢查有沒有被選\n",
        "        if board[row_chosen][col_chosen] == -1:\n",
        "            # 記得做設定\n",
        "            board[row_chosen][col_chosen] = round % 2\n",
        "            break\n",
        "        else:\n",
        "            print(\"位置被選了\")\n",
        "    # 有選了就下回合\n",
        "    round = round + 1\n",
        "\n"
      ]
    },
    {
      "cell_type": "code",
      "execution_count": null,
      "metadata": {
        "colab": {
          "background_save": true,
          "base_uri": "https://localhost:8080/"
        },
        "id": "c2QaIirn10_L",
        "outputId": "162056ea-d664-42e2-f6fd-a5d639eefafc"
      },
      "outputs": [
        {
          "name": "stdout",
          "output_type": "stream",
          "text": [
            "------------------------------\n",
            "回合: 0\n",
            "_ _ _ \n",
            "_ O _ \n",
            "_ _ _ \n",
            "------------------------------\n",
            "回合: 1\n",
            "_ _ _ \n",
            "X O _ \n",
            "_ _ _ \n",
            "------------------------------\n",
            "回合: 2\n",
            "O _ _ \n",
            "X O _ \n",
            "_ _ _ \n",
            "------------------------------\n",
            "回合: 3\n",
            "位置被選了\n",
            "O _ _ \n",
            "X O _ \n",
            "_ X _ \n",
            "------------------------------\n",
            "回合: 4\n",
            "O _ _ \n",
            "X O _ \n",
            "_ X O \n",
            "O 贏了!\n",
            "------------------------------\n",
            "回合: 0\n",
            "O _ _ \n",
            "_ _ _ \n",
            "_ _ _ \n",
            "------------------------------\n",
            "回合: 1\n",
            "O _ _ \n",
            "_ _ _ \n",
            "X _ _ \n",
            "------------------------------\n",
            "回合: 2\n",
            "O _ _ \n",
            "_ O _ \n",
            "X _ _ \n",
            "------------------------------\n",
            "回合: 3\n",
            "O _ _ \n",
            "X O _ \n",
            "X _ _ \n",
            "------------------------------\n",
            "回合: 4\n",
            "O _ _ \n",
            "X O _ \n",
            "X _ O \n",
            "O 贏了!\n",
            "------------------------------\n",
            "回合: 0\n"
          ]
        }
      ],
      "source": [
        "import random\n",
        "# round % 2 == 0: 奇數回合\n",
        "# round % 2 == 1: 偶數回合\n",
        "trans = [\"O\", \"X\"]\n",
        "\n",
        "board = [\n",
        "    [ -1, -1, -1],\n",
        "    [ -1, -1, -1],\n",
        "    [ -1, -1, -1]\n",
        "]\n",
        "winner = -1\n",
        "# 我發現是True的時候就reset, 避免我要寫很多次同樣程式碼\n",
        "reset = False\n",
        "round = 0\n",
        "\n",
        "while True:\n",
        "    # 印個第幾回合好像比較帥\n",
        "    print(\"-\" * 30)\n",
        "    print(\"回合:\", round)\n",
        "    # 有選過的不能再選\n",
        "    while True:\n",
        "        if round % 2 == 0:\n",
        "            row_chosen = int(input(\"選擇第幾列\"))\n",
        "            col_chosen = int(input(\"選擇第幾行\"))\n",
        "        else:\n",
        "            row_chosen = random.randint(0, 2)\n",
        "            col_chosen = random.randint(0, 2)\n",
        "        # 檢查有沒有被選\n",
        "        if board[row_chosen][col_chosen] == -1:\n",
        "            # 記得做設定\n",
        "            board[row_chosen][col_chosen] = round % 2\n",
        "            break\n",
        "        else:\n",
        "            print(\"位置被選了\")\n",
        "    # 有選了就下回合\n",
        "    round = round + 1\n",
        "\n",
        "    # 印出盤面\n",
        "    i = 0\n",
        "    while i < 3:\n",
        "        row = i\n",
        "        # 把這個row的東西印成一行\n",
        "        line = \"\"\n",
        "        j = 0\n",
        "        while j < 3:\n",
        "            player = board[row][j]\n",
        "            if not player == -1:\n",
        "                line = line + trans[player] + \" \"\n",
        "            else:\n",
        "                # 沒被選擇的畫, 我們就用_來表示\n",
        "                line = line + \"_\" + \" \"\n",
        "            j = j + 1\n",
        "        print(line)\n",
        "        i = i + 1\n",
        "\n",
        "    # 判定勝負\n",
        "    # 橫的確認\n",
        "    i = 0\n",
        "    while i < 3:\n",
        "        row = i\n",
        "        if not board[row][0] == -1:\n",
        "            if board[row][0] == board[row][1] == board[row][2]:\n",
        "                # print(row, \"連線了\")\n",
        "                winner = board[row][0]\n",
        "                reset = True\n",
        "        i = i + 1\n",
        "\n",
        "    # 直的確認\n",
        "    i = 0\n",
        "    while i < 3:\n",
        "        col = i\n",
        "        if not board[0][col] == -1:\n",
        "            if board[0][col] == board[1][col] == board[2][col]:\n",
        "                # print(col, \"連線了\")\n",
        "                winner = board[0][col]\n",
        "                reset = True\n",
        "        i = i + 1\n",
        "\n",
        "    # 斜的確認\n",
        "    if not board[0][0] == -1:\n",
        "        if board[0][0] == board[1][1] == board[2][2]:\n",
        "            # print(\"左上到右下連線\")\n",
        "            winner = board[0][0]\n",
        "            reset = True\n",
        "\n",
        "    if not board[0][2] == -1:\n",
        "        if board[0][2] == board[1][1] == board[2][0]:\n",
        "            # print(\"右上到左下連線\")\n",
        "            winner = board[0][2]\n",
        "            reset = True\n",
        "\n",
        "    # 如果winner不是-1 那就是有人贏了\n",
        "    if not winner == -1:\n",
        "        print(trans[winner], \"贏了!\")\n",
        "\n",
        "    if reset == True:\n",
        "        # 重新新一盤遊戲\n",
        "        board = [\n",
        "            [ -1, -1, -1],\n",
        "            [ -1, -1, -1],\n",
        "            [ -1, -1, -1]\n",
        "        ]\n",
        "        winner = -1\n",
        "        # 我發現是True的時候就reset, 避免我要寫很多次同樣程式碼\n",
        "        reset = False\n",
        "        round = 0"
      ]
    },
    {
      "cell_type": "markdown",
      "metadata": {
        "id": "aF_YHZOSlePy"
      },
      "source": [
        "\n"
      ]
    }
  ],
  "metadata": {
    "colab": {
      "provenance": [],
      "authorship_tag": "ABX9TyMxWivP7EIkXDutnkvKidyu",
      "include_colab_link": true
    },
    "kernelspec": {
      "display_name": "Python 3",
      "name": "python3"
    },
    "language_info": {
      "name": "python"
    }
  },
  "nbformat": 4,
  "nbformat_minor": 0
}