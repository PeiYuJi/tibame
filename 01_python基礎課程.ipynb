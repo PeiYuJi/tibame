{
  "nbformat": 4,
  "nbformat_minor": 0,
  "metadata": {
    "colab": {
      "provenance": [],
      "collapsed_sections": [
        "xm3x6co12E1u",
        "8xyZ0_U09ilZ",
        "mAIp6dHcITRu",
        "vgyaACP7DjkU"
      ],
      "authorship_tag": "ABX9TyNg3hh7lT5VmnCwDJnGqysW",
      "include_colab_link": true
    },
    "kernelspec": {
      "name": "python3",
      "display_name": "Python 3"
    },
    "language_info": {
      "name": "python"
    }
  },
  "cells": [
    {
      "cell_type": "markdown",
      "metadata": {
        "id": "view-in-github",
        "colab_type": "text"
      },
      "source": [
        "<a href=\"https://colab.research.google.com/github/PeiYuJi/tibame/blob/main/01_python%E5%9F%BA%E7%A4%8E%E8%AA%B2%E7%A8%8B.ipynb\" target=\"_parent\"><img src=\"https://colab.research.google.com/assets/colab-badge.svg\" alt=\"Open In Colab\"/></a>"
      ]
    },
    {
      "cell_type": "markdown",
      "source": [
        "birdfan8814@gmail.com line: elwing FB: Fan-Gang Chou"
      ],
      "metadata": {
        "id": "A7xySrpRlxqb"
      }
    },
    {
      "cell_type": "markdown",
      "source": [
        "https://github.com/Elwing-Chou/tibame_online_0416/blob/main/tibame_0416.ipynb"
      ],
      "metadata": {
        "id": "4Gyx1SI29eBm"
      }
    },
    {
      "cell_type": "markdown",
      "source": [
        " C:\\Users\\User\\PycharmProjects\\first\\.venv\\Scripts\\python.exe -m pip install matplotlib\n"
      ],
      "metadata": {
        "id": "CqfDZSkaO4xE"
      }
    },
    {
      "cell_type": "markdown",
      "source": [
        "### **1.BMI**"
      ],
      "metadata": {
        "id": "xm3x6co12E1u"
      }
    },
    {
      "cell_type": "code",
      "execution_count": null,
      "metadata": {
        "id": "C-MUQ-D4TF3g"
      },
      "outputs": [],
      "source": [
        "# pep coding style\n",
        "# repl.it/@abc0970870/first\n",
        "# bmi = weight(kg) / height(m)^2\n",
        "# weight = 85\n",
        "# height = 175\n",
        "# bmi = str(weight / (height / 100)**2)\n",
        "# print (\"你的體重是:\" + str(weight))\n",
        "# print(\"你的身高是:\" + str(height))\n",
        "# print (\"bmi是:\" + str(bmi) )\n",
        "# 3 + 3.14\n",
        "# a = 4.2\n",
        "# b = int(a)\n",
        "# print(b)\n",
        "\n",
        "weight = float(input(\"請輸入體重 : \"))\n",
        "height = float(input(\"請輸入身高 : \"))\n",
        "bmi = int(weight) / (int(height)/100)**2\n",
        "print (\"你的體重是:\" + str(weight))\n",
        "print(\"你的身高是:\" + str(height))\n",
        "print (\"bmi是:\" + str(bmi) )\n",
        "\n",
        "# >, >=, <, <=, ==\n",
        "if bmi > 25:\n",
        "    print(\"過重\")\n",
        "    print(\"少吃點\")\n",
        "else:\n",
        "    print(\"正常\")\n",
        "print(\"!!!!\")"
      ]
    },
    {
      "cell_type": "markdown",
      "source": [
        "### **2.猜拳**"
      ],
      "metadata": {
        "id": "8xyZ0_U09ilZ"
      }
    },
    {
      "cell_type": "code",
      "source": [
        "# com = random.randint(0,2)\n",
        "# print(\"我出的:\" + str(my))\n",
        "# str(my) -> 轉成字串\n",
        "\n",
        "# print(\"我出的:\" , my)\n",
        "# print(\"電腦出的:\",com)\n",
        "\n",
        "# trans = [\"剪刀\", \"石頭\", \"布\"]  # 0, 1, 2\n",
        "# print(trans[0])\n",
        "\n",
        "# s=\"apple\"\n",
        "# print(s[0]) -> a\n",
        "\n",
        "import random\n",
        "# int 整數型態\n",
        "my = int(input(\"請輸入 0.剪刀 1.石頭 2.布\"))\n",
        "\n",
        "# 回傳一個隨機整數 N，使得 a <= N <= b。\n",
        "com = random.randint(0,2)\n",
        "\n",
        "trans = [\"剪刀\", \"石頭\", \"布\"]  # 0, 1, 2\n",
        "print(\"我出的:\" , trans[my])\n",
        "print(\"電腦出的:\", trans[com])\n",
        "\n",
        "# % 取餘數 7 % 3 -> 1\n",
        "# // 取商 7 // 3 ->2\n",
        "# 0 % 3 -> 0\n",
        "# 1 % 3 -> 1\n",
        "# 2 % 3 -> 2\n",
        "# 3 % 3 -> 0\n",
        "\n",
        "# 我的拳 = 電腦的下一個\n",
        "if my == ( com + 1 ) % 3:\n",
        "    print(\"我贏\")\n",
        "# 電腦的拳 = 我出的下一個\n",
        "elif com == ( my + 1 ) %3:\n",
        "    print(\"我輸\")\n",
        "else:\n",
        "    print(\"平手\")"
      ],
      "metadata": {
        "id": "m6EYgg82aJms"
      },
      "execution_count": null,
      "outputs": []
    },
    {
      "cell_type": "markdown",
      "source": [
        "### 3.迴圈"
      ],
      "metadata": {
        "id": "mAIp6dHcITRu"
      }
    },
    {
      "cell_type": "code",
      "source": [
        "i = 0\n",
        "while i < 10 :\n",
        "    print(i,\n",
        "        i+5,\n",
        "        87-i,\n",
        "        5*i+10,\n",
        "        87-3*i\n",
        "        )\n",
        "    i = i + 1"
      ],
      "metadata": {
        "colab": {
          "base_uri": "https://localhost:8080/"
        },
        "id": "kPYbag3d6Vlp",
        "outputId": "8666ea13-33b3-4e85-c63f-ebb237078f1f"
      },
      "execution_count": null,
      "outputs": [
        {
          "output_type": "stream",
          "name": "stdout",
          "text": [
            "0 5 87 10 87\n",
            "1 6 86 15 84\n",
            "2 7 85 20 81\n",
            "3 8 84 25 78\n",
            "4 9 83 30 75\n",
            "5 10 82 35 72\n",
            "6 11 81 40 69\n",
            "7 12 80 45 66\n",
            "8 13 79 50 63\n",
            "9 14 78 55 60\n"
          ]
        }
      ]
    },
    {
      "cell_type": "code",
      "source": [
        "\"hello\" * 3"
      ],
      "metadata": {
        "colab": {
          "base_uri": "https://localhost:8080/",
          "height": 35
        },
        "id": "snkU69iMk7ry",
        "outputId": "aea7c881-6d9f-46ec-8f8c-30ffd1e9ecce"
      },
      "execution_count": null,
      "outputs": [
        {
          "output_type": "execute_result",
          "data": {
            "text/plain": [
              "'hellohellohello'"
            ],
            "application/vnd.google.colaboratory.intrinsic+json": {
              "type": "string"
            }
          },
          "metadata": {},
          "execution_count": 2
        }
      ]
    },
    {
      "cell_type": "code",
      "source": [
        "i = 0\n",
        "while i < 10:\n",
        "    print(\"*\"*(i+1))\n",
        "    i = i+1"
      ],
      "metadata": {
        "colab": {
          "base_uri": "https://localhost:8080/"
        },
        "id": "kIY5coV8MfQG",
        "outputId": "85cda954-b4e2-4a15-8e22-6f009c36d96f"
      },
      "execution_count": null,
      "outputs": [
        {
          "output_type": "stream",
          "name": "stdout",
          "text": [
            "*\n",
            "**\n",
            "***\n",
            "****\n",
            "*****\n",
            "******\n",
            "*******\n",
            "********\n",
            "*********\n",
            "**********\n"
          ]
        }
      ]
    },
    {
      "cell_type": "code",
      "source": [
        "i = 0\n",
        "while i < 10:\n",
        "    print(\" \" * (9 - i) + \"*\" * (i * 1))\n",
        "    i = i + 1"
      ],
      "metadata": {
        "colab": {
          "base_uri": "https://localhost:8080/"
        },
        "id": "d9P2pFNAMfTv",
        "outputId": "bd5e681e-d1a6-4e45-d8e1-c492193ca55d"
      },
      "execution_count": null,
      "outputs": [
        {
          "output_type": "stream",
          "name": "stdout",
          "text": [
            "         \n",
            "        *\n",
            "       **\n",
            "      ***\n",
            "     ****\n",
            "    *****\n",
            "   ******\n",
            "  *******\n",
            " ********\n",
            "*********\n"
          ]
        }
      ]
    },
    {
      "cell_type": "code",
      "source": [
        "left , right = \" \", \"o\"\n",
        "layer = 10\n",
        "i = 0\n",
        "while i < layer:\n",
        "    lcount = layer - i - 1\n",
        "    rcount = i + 1\n",
        "    print(left * lcount + right * rcount)\n",
        "    i = i + 1"
      ],
      "metadata": {
        "colab": {
          "base_uri": "https://localhost:8080/"
        },
        "id": "o8pHlv8hMfZO",
        "outputId": "d0b955b8-6ccf-4173-afee-4c32e8081e5b"
      },
      "execution_count": null,
      "outputs": [
        {
          "output_type": "stream",
          "name": "stdout",
          "text": [
            "         o\n",
            "        oo\n",
            "       ooo\n",
            "      oooo\n",
            "     ooooo\n",
            "    oooooo\n",
            "   ooooooo\n",
            "  oooooooo\n",
            " ooooooooo\n",
            "oooooooooo\n"
          ]
        }
      ]
    },
    {
      "cell_type": "code",
      "source": [
        "# ****\n",
        "#  ***\n",
        "#   *\n",
        "\n",
        "left, right = \" \", \"x\"\n",
        "layer = 10\n",
        "i = 0\n",
        "while i < layer:\n",
        "    lcount = layer\n",
        "    rcount = layer - i\n",
        "    print(left * lcount + right * rcount)\n",
        "    i = i + 1\n"
      ],
      "metadata": {
        "colab": {
          "base_uri": "https://localhost:8080/"
        },
        "id": "8Q52uS4qNqxQ",
        "outputId": "3307e806-21d6-40a7-b8ea-9fa16a204d18"
      },
      "execution_count": null,
      "outputs": [
        {
          "output_type": "stream",
          "name": "stdout",
          "text": [
            "          xxxxxxxxxx\n",
            "          xxxxxxxxx\n",
            "          xxxxxxxx\n",
            "          xxxxxxx\n",
            "          xxxxxx\n",
            "          xxxxx\n",
            "          xxxx\n",
            "          xxx\n",
            "          xx\n",
            "          x\n"
          ]
        }
      ]
    },
    {
      "cell_type": "code",
      "source": [
        "#  *****\n",
        "#  ***\n",
        "#   *\n",
        "# 3 層 5\n",
        "# 4 : 7\n",
        "# 5 : 9\n",
        "left , mid, right = \" \", \"c\", \" \"\n",
        "layer = 10\n",
        "i = 0\n",
        "while i < layer:\n",
        "    lcount = i\n",
        "    mcount= (layer * 2 - 1) - 2 * i\n",
        "    rcount = i\n",
        "    print(left * lcount +\n",
        "          mid * mcount +\n",
        "          right * rcount)\n",
        "    i = i + 1"
      ],
      "metadata": {
        "colab": {
          "base_uri": "https://localhost:8080/"
        },
        "id": "OSNuPcwnNq0d",
        "outputId": "d2321669-8c1a-4707-e009-93c3f9e71d5d"
      },
      "execution_count": null,
      "outputs": [
        {
          "output_type": "stream",
          "name": "stdout",
          "text": [
            "ccccccccccccccccccc\n",
            " ccccccccccccccccc \n",
            "  ccccccccccccccc  \n",
            "   ccccccccccccc   \n",
            "    ccccccccccc    \n",
            "     ccccccccc     \n",
            "      ccccccc      \n",
            "       ccccc       \n",
            "        ccc        \n",
            "         c         \n"
          ]
        }
      ]
    },
    {
      "cell_type": "markdown",
      "source": [],
      "metadata": {
        "id": "Klqt7jRD-J-5"
      }
    },
    {
      "cell_type": "code",
      "source": [
        "total=0\n",
        "i=0\n",
        "while i < 10:\n",
        "    total = total + (i + 1)\n",
        "    print(total)\n",
        "    i = i + 1\n",
        "print(total)"
      ],
      "metadata": {
        "colab": {
          "base_uri": "https://localhost:8080/"
        },
        "id": "EoFEwlls6Vui",
        "outputId": "c11a8dd4-b51b-4213-b3ce-e7278ccc1d0e"
      },
      "execution_count": null,
      "outputs": [
        {
          "output_type": "stream",
          "name": "stdout",
          "text": [
            "1\n",
            "3\n",
            "6\n",
            "10\n",
            "15\n",
            "21\n",
            "28\n",
            "36\n",
            "45\n",
            "55\n",
            "55\n"
          ]
        }
      ]
    },
    {
      "cell_type": "code",
      "source": [
        "a = \"hello\"\n",
        "a = a + \"!!!\"\n",
        "print(a)\n",
        "# 2 / 7 -> 0.285714285714\n",
        "a , b = 2, 7\n",
        "ans = \"0.\"\n",
        "i = 0\n",
        "while i < 10:\n",
        "    # 2 -> 20\n",
        "    a10 = a * 10\n",
        "    # 20 // 7 取商\n",
        "    ans = ans + str(a10 // b)\n",
        "    print(ans)\n",
        "    # 20 % 7 取餘數\n",
        "    a = a10 % b\n",
        "    i = i + 1"
      ],
      "metadata": {
        "colab": {
          "base_uri": "https://localhost:8080/"
        },
        "id": "AMebnPBgxEEZ",
        "outputId": "872cfcc7-057b-4321-ec23-fb40e0dcfa0f"
      },
      "execution_count": null,
      "outputs": [
        {
          "output_type": "stream",
          "name": "stdout",
          "text": [
            "hello!!!\n",
            "0.2\n",
            "0.28\n",
            "0.285\n",
            "0.2857\n",
            "0.28571\n",
            "0.285714\n",
            "0.2857142\n",
            "0.28571428\n",
            "0.285714285\n",
            "0.2857142857\n"
          ]
        }
      ]
    },
    {
      "cell_type": "code",
      "source": [
        "s = \"hello\"\n",
        "s[0]\n",
        "s[1]\n",
        "x, y = 0, 0\n",
        "commands = \"ULLRDL\"\n",
        "i = 0\n",
        "while i <len(commands):\n",
        "  c = commands[i]\n",
        "  print(c)\n",
        "  if c == \"U\":\n",
        "    y = y + 1\n",
        "  elif c == \"D\":\n",
        "    y = y - 1\n",
        "  elif c == \"L\":\n",
        "    x = x - 1\n",
        "  elif c == \"R\":\n",
        "    x = x + 1\n",
        "  i = i + 1\n",
        "print(x, y)"
      ],
      "metadata": {
        "colab": {
          "base_uri": "https://localhost:8080/"
        },
        "id": "L_kuXtuG01RI",
        "outputId": "a1f4af98-45a8-48ee-cfb5-440a5764abfc"
      },
      "execution_count": null,
      "outputs": [
        {
          "output_type": "stream",
          "name": "stdout",
          "text": [
            "U\n",
            "L\n",
            "L\n",
            "R\n",
            "D\n",
            "L\n",
            "-2 0\n"
          ]
        }
      ]
    },
    {
      "cell_type": "code",
      "source": [
        "import random\n",
        "count = 0\n",
        "total = 1000\n",
        "i = 0\n",
        "while i < total:\n",
        "    # 對於這次隨機(x, y)\n",
        "    x = random.uniform(-1, 1)\n",
        "    y = random.uniform(-1, 1)\n",
        "    # 如果這座標在圓裡面，累計次數增加1\n",
        "    if x ** 2 + y ** 2 <= 1:\n",
        "        count = count + 1\n",
        "    i = i + 1\n",
        "# 圓形裡面 / 全部 * 參照面積\n",
        "ratio = count / total\n",
        "print(ratio * 4)"
      ],
      "metadata": {
        "id": "CRPn3BAw6VyN"
      },
      "execution_count": null,
      "outputs": []
    },
    {
      "cell_type": "code",
      "source": [
        "import random\n",
        "win, lose = 0, 0\n",
        "while win < 3  and lose < 3:\n",
        "    # -1: lose 0: even 1:win\n",
        "    result = random.randint(-1, 1)\n",
        "    print(result)\n",
        "    if result == -1:\n",
        "        lose = lose + 1\n",
        "    elif result == 1:\n",
        "        win = win + 1\n",
        "\n",
        "if win > lose:\n",
        "    print (\"WIN\")\n",
        "else:\n",
        "    print (\"LOSE\")"
      ],
      "metadata": {
        "id": "IXbi7pjD6V1j"
      },
      "execution_count": null,
      "outputs": []
    },
    {
      "cell_type": "code",
      "source": [
        "import random\n",
        "win, lose = 0, 0\n",
        "while True:\n",
        "    # -1: lose 0: even 1:win\n",
        "    result = random.randint(-1, 1)\n",
        "    print(result)\n",
        "    if result == -1:\n",
        "        lose = lose + 1\n",
        "    elif result == 1:\n",
        "        win = win + 1\n",
        "    # 判斷\n",
        "    if win == 3:\n",
        "        print(\"WIN\")\n",
        "        break\n",
        "    elif lose == 3:\n",
        "        print(\"LOSE\")\n",
        "        break"
      ],
      "metadata": {
        "id": "3zZD6BTq21Rf"
      },
      "execution_count": null,
      "outputs": []
    },
    {
      "cell_type": "code",
      "source": [
        "# 印出十位小數, 增加提早停止機制\n",
        "# 2 / 7 -> 0.285714285714\n",
        "a , b = 2, 7\n",
        "ans = \"0.\"\n",
        "i = 0\n",
        "while i < 10:\n",
        "    # 2 -> 20\n",
        "    a10 = a * 10\n",
        "    # 20 // 7\n",
        "    ans = ans + str(a10 // b)\n",
        "    print(ans)\n",
        "    # 20 % 7\n",
        "    a = a10 % b\n",
        "    if a == 0:\n",
        "        break\n",
        "    i = i + 1"
      ],
      "metadata": {
        "id": "ymuKoDJm21WJ"
      },
      "execution_count": null,
      "outputs": []
    },
    {
      "cell_type": "code",
      "source": [
        "import random\n",
        "low, high = 1, 100\n",
        "ans = random.randint(low + 1, high - 1)\n",
        "\n",
        "while True:\n",
        "\n",
        "    while True:\n",
        "        print(\"請輸入\", low, \"-\", high, \":\")\n",
        "        guess = int(input())\n",
        "        if low < guess < high:\n",
        "            break\n",
        "        else:\n",
        "            print(\"invalid\")\n",
        "\n",
        "    if guess > ans:\n",
        "        print(\"猜大了\")\n",
        "        high = guess\n",
        "    elif guess < ans:\n",
        "        print(\"猜小了\")\n",
        "        low = guess\n",
        "    else:\n",
        "        print(\"恭喜猜對\")\n",
        "        break\n",
        "\n",
        "# tab\n",
        "# shift + tab"
      ],
      "metadata": {
        "id": "OKeoaki46V46"
      },
      "execution_count": null,
      "outputs": []
    },
    {
      "cell_type": "markdown",
      "source": [
        "### 4.清單漢字典"
      ],
      "metadata": {
        "id": "vgyaACP7DjkU"
      }
    },
    {
      "cell_type": "code",
      "source": [
        "scores = [30, 50, 80, 60, 90]\n",
        "print(sum(scores), max(scores), min(scores))\n",
        "print(len(scores))\n",
        "\n",
        "# 60 有沒有在 scores 裡面\n",
        "print(60 in scores)\n",
        "\n",
        "# 查詢: 查東西[key]\n",
        "print(scores[0])\n",
        "# print(scores[len(scores) - 1])\n",
        "print(scores[-1])\n",
        "\n",
        "# 查詢一段\n",
        "# 0 1 2 不包含 3\n",
        "print(scores[1:3])\n",
        "\n",
        "print(scores[1:-1])\n",
        "print(scores[:3])\n",
        "print(scores[1:])\n",
        "\n",
        "# 挑號\n",
        "print(scores[0:4:2]) # 兩個一跳\n",
        "print(scores[::2], scores[1::2]) # 兩個一跳\n",
        "\n",
        "# 反向跳號(從右跳到左)\n",
        "print(scores[4:2:-2])\n",
        "print(scores[-1:0:-2])\n",
        "print(scores[::-1])  # 反著一跳"
      ],
      "metadata": {
        "id": "cytKw2uQCiOV",
        "colab": {
          "base_uri": "https://localhost:8080/"
        },
        "outputId": "c13ec61c-efc7-42ce-85d5-74ed1304fc11"
      },
      "execution_count": null,
      "outputs": [
        {
          "output_type": "stream",
          "name": "stdout",
          "text": [
            "310 90 30\n",
            "5\n",
            "True\n",
            "30\n",
            "90\n",
            "[50, 80]\n",
            "[50, 80, 60]\n",
            "[30, 50, 80]\n",
            "[50, 80, 60, 90]\n",
            "[30, 80]\n",
            "[30, 80, 90] [50, 60]\n",
            "[90]\n",
            "[90, 80]\n",
            "[90, 60, 80, 50, 30]\n"
          ]
        }
      ]
    },
    {
      "cell_type": "code",
      "source": [
        "scores = [80, 60, 90, 20, 100]\n",
        "i = 0\n",
        "count = 0\n",
        "while i < len(scores):\n",
        "    print(scores[i])\n",
        "    s = scores[i]\n",
        "    if s >= 60:\n",
        "        count = count + 1\n",
        "    i = i + 1\n",
        "print(count)"
      ],
      "metadata": {
        "id": "bnAoe1ma-hAJ",
        "colab": {
          "base_uri": "https://localhost:8080/"
        },
        "outputId": "30c18a50-24b2-4606-ecf8-5da0d79e75e2"
      },
      "execution_count": null,
      "outputs": [
        {
          "output_type": "stream",
          "name": "stdout",
          "text": [
            "80\n",
            "60\n",
            "90\n",
            "20\n",
            "100\n",
            "4\n"
          ]
        }
      ]
    },
    {
      "cell_type": "code",
      "source": [
        "scores = [80, 60, 90, 20, 100]\n",
        "\n",
        "count = 0\n",
        "\n",
        "for s in scores:\n",
        "    if s >= 60:\n",
        "        count = count + 1\n",
        "print(count)"
      ],
      "metadata": {
        "id": "UtR4xB8-Gmwi",
        "colab": {
          "base_uri": "https://localhost:8080/"
        },
        "outputId": "14c5d5df-7ec6-4715-b8c4-10ad358c17d6"
      },
      "execution_count": null,
      "outputs": [
        {
          "output_type": "stream",
          "name": "stdout",
          "text": [
            "4\n"
          ]
        }
      ]
    },
    {
      "cell_type": "code",
      "source": [
        "# 1 + 2 + 3 + .... + 10\n",
        "i = 0\n",
        "total = 0\n",
        "while i < 10:\n",
        "    total = total + (i + 1)\n",
        "    print(total)\n",
        "    i = i + 1"
      ],
      "metadata": {
        "id": "2Sf2BMTGGe6R",
        "colab": {
          "base_uri": "https://localhost:8080/"
        },
        "outputId": "34b54c53-d615-4fe8-e627-d185f7d33977"
      },
      "execution_count": null,
      "outputs": [
        {
          "output_type": "stream",
          "name": "stdout",
          "text": [
            "1\n",
            "3\n",
            "6\n",
            "10\n",
            "15\n",
            "21\n",
            "28\n",
            "36\n",
            "45\n",
            "55\n"
          ]
        }
      ]
    },
    {
      "cell_type": "code",
      "source": [
        "# 1 + 2 + 3 + .... + 10\n",
        "total = 0\n",
        "for i in range(10):\n",
        "  total = total + (i + 1)\n",
        "  print(total)"
      ],
      "metadata": {
        "id": "FadoTXEAGZr4"
      },
      "execution_count": null,
      "outputs": []
    },
    {
      "cell_type": "code",
      "source": [
        "person = {\n",
        "    \"name\" : \"Elwing\",\n",
        "    \"height\" : 175\n",
        "\n",
        "}\n",
        "print(person)\n",
        "# 名稱 -> 字典[key]\n",
        "print(person[\"height\"])\n",
        "\n",
        "# weight = 80\n",
        "person[\"weight\"] = 80\n",
        "print(person)\n",
        "\n",
        "# height = height + 5\n",
        "person[\"height\"] = person[\"height\"] + 5\n",
        "print(person)\n",
        "\n",
        "# del a\n",
        "# delete a\n",
        "del person[\"name\"]\n",
        "print(person)"
      ],
      "metadata": {
        "colab": {
          "base_uri": "https://localhost:8080/"
        },
        "id": "RTxtMH8i2wlk",
        "outputId": "cd44776e-21e3-4f0a-8768-68a7dc9b43fc"
      },
      "execution_count": null,
      "outputs": [
        {
          "output_type": "stream",
          "name": "stdout",
          "text": [
            "{'name': 'Elwing', 'height': 175}\n",
            "175\n",
            "{'name': 'Elwing', 'height': 175, 'weight': 80}\n",
            "{'name': 'Elwing', 'height': 180, 'weight': 80}\n",
            "{'height': 180, 'weight': 80}\n"
          ]
        }
      ]
    },
    {
      "cell_type": "markdown",
      "source": [
        "純文字、沒有特別分類的會放在\n",
        "Fetch/XHR"
      ],
      "metadata": {
        "id": "ZAf6F9CqcF3q"
      }
    },
    {
      "cell_type": "code",
      "source": [
        "# 相對路徑\n",
        "# w -> 寫入\n",
        "# encoding -> 編碼\n",
        "# 繁體中文 -> BIG5\n",
        "# 萬國編碼 -> utf-8\n",
        "f = open(\"a.txt\", \"w\", encoding=\"utf-8\")\n",
        "# 以前寫法: write(f, \"abc\")\n",
        "# 專屬功能寫法: f.write(\"abc\")\n",
        "# 跳脫字元 \\n : 換行  \\t : tab)\n",
        "f.write(\"abc\\n\")\n",
        "f.write(\"def\")\n",
        "# 以前寫法: close(f)\n",
        "# 專屬功能寫法: f.close()\n",
        "f.close()"
      ],
      "metadata": {
        "id": "MdsPHm-l-hFD"
      },
      "execution_count": null,
      "outputs": []
    },
    {
      "cell_type": "code",
      "source": [
        "# f = open(\"main.py\", \"r\", encoding=\"utf-8\")\n",
        "f = open(\"a.txt\", \"r\", encoding=\"utf-8\")\n",
        "# 以前: s = read(f)\n",
        "# 專屬功能寫法: s = f.read()\n",
        "s = f.read()\n",
        "f.close()\n",
        "print(s)"
      ],
      "metadata": {
        "colab": {
          "base_uri": "https://localhost:8080/"
        },
        "id": "0euqSRSKeXOI",
        "outputId": "78defc9c-cc8f-483f-afc1-ee93fff79c4c"
      },
      "execution_count": null,
      "outputs": [
        {
          "output_type": "stream",
          "name": "stdout",
          "text": [
            "abc\n",
            "def\n"
          ]
        }
      ]
    },
    {
      "cell_type": "code",
      "source": [
        "import os\n",
        "import json\n",
        "import urllib.request as req\n",
        "\n",
        "dirname = \"google\"\n",
        "# 如果資料夾不存在，就創造起來\n",
        "if not os.path.exists(dirname):\n",
        "    os.makedirs(dirname)\n",
        "\n",
        "url = \"https://www.google.com/doodles/json/2023/7?hl=zh-TW\"\n",
        "\n",
        "# 打開一個遠端的檔案\n",
        "f = req.urlopen(url)\n",
        "s = f.read()\n",
        "\n",
        "# print(type(s))\n",
        "# print(type(\"abc\"))\n",
        "# print(type(35))\n",
        "# print(type(35.2))\n",
        "pics = json.loads(s)\n",
        "# pics = json.load(f)\n",
        "print(type(pics))\n",
        "\n",
        "for p in pics:\n",
        "    print(type(p))\n",
        "    print(p[\"title\"])\n",
        "    img = \"https:\" + p[\"high_res_rul\"]\n",
        "    print(img)\n",
        "    # urlretrieve(圖片網址， 儲存檔案路徑)\n",
        "    fp = dirname + \"/\" + img.split(\"/\")[-1]\n",
        "    req.urlretrieve(img, fp)\n",
        "    print(\"-\" * 30)\n",
        "    print(img.split(\"/\")[-1])\n",
        "\n",
        "    # split(\"-\") -> 用 - 切割\n",
        "    # \"2022-12-31\".split(\"-\")"
      ],
      "metadata": {
        "id": "B-3GSTGR-hIo"
      },
      "execution_count": null,
      "outputs": []
    },
    {
      "cell_type": "markdown",
      "source": [
        "### 5.專屬功能"
      ],
      "metadata": {
        "id": "WV_NePPcxIb6"
      }
    },
    {
      "cell_type": "code",
      "source": [
        "s = \"hello\" * 5\n",
        "print(s)\n",
        "b = s.replace(\"hello\", \"bye\")\n",
        "print(b)\n",
        "s = s.replace(\"hello\", \"8\", 2)\n",
        "print(s)\n",
        "\n",
        "d = \"2023-12-23\"\n",
        "ds = d.split(\"-\")\n",
        "print(ds)\n",
        "\n",
        "# ds[::-1] 反過來\n",
        "dj = \"/\".join(ds[::-1])\n",
        "print(dj)\n",
        "\n",
        "s = \" \\n abc \\t \\n\"\n",
        "# strip() -> 去掉換行、空白\n",
        "print(s.strip())\n",
        "# lstrip() -> 去掉左邊多餘的換行、空白\n",
        "print(\"!\", s.lstrip())\n",
        "# rstrip() -> 去掉右邊多餘的換行、空白\n",
        "print(\"!\", s.rstrip())"
      ],
      "metadata": {
        "id": "m3z8RwBe-hML"
      },
      "execution_count": null,
      "outputs": []
    },
    {
      "cell_type": "code",
      "source": [
        "scores = [50, 40 ,60]\n",
        "b = scores.append(99)\n",
        "print(scores)\n",
        "print(b)\n",
        "print(print(4.2))\n",
        "# 字串 : print(s.replace(xxx, ooo))\n",
        "# 錯誤1. 印出None ,但是888有進去\n",
        "# print(scores.append(888))\n",
        "# 字串: s = s.replace()\n",
        "# 致命錯誤2. 相當於scores = None\n",
        "# scores = scores.append(777)   =>  scores = None\n",
        "scores.append(1234)\n",
        "print(scores)"
      ],
      "metadata": {
        "colab": {
          "base_uri": "https://localhost:8080/"
        },
        "id": "gfDI2vILzX6o",
        "outputId": "7f92c030-f519-4270-8935-8684d848a154"
      },
      "execution_count": null,
      "outputs": [
        {
          "output_type": "stream",
          "name": "stdout",
          "text": [
            "[50, 40, 60, 99]\n",
            "None\n",
            "4.2\n",
            "None\n",
            "[50, 40, 60, 99, 1234]\n"
          ]
        }
      ]
    },
    {
      "cell_type": "code",
      "source": [
        "import random\n",
        "n = 4\n",
        "# 準備n個門[0和1] 0:沒有中獎 1:中獎\n",
        "doors = [0] * (n-1)\n",
        "idx = random.randint(0, len(doors)-1)\n",
        "# insert(插入位置, 插入的值)\n",
        "doors.insert(idx, 1)\n",
        "print(\"準備的門:\", doors)\n",
        "# 隨機選一個門(random)(x)\n",
        "idx = random.randint(0, len(doors)-1)\n",
        "print(idx)\n",
        "# insert(插入位置, 插入的值))\n",
        "print(\"選到的門:\", doors[idx])\n",
        "# pop(idx): 刪除那個 index pop(): 刪除最後一個\n",
        "doors.pop(idx)\n",
        "print(\"剩下的門:\", doors)\n",
        "# del doors[idx]\n",
        "# 在剩下的門裡面，主持人開一個沒有獎的\n",
        "# remove(值):從左到右找到第一個吻合的值並且移除\n",
        "doors.remove(0)\n",
        "print(\"剩下的門:\", doors)\n",
        "# 扣除剛剛那兩道以後，再選一個帶回家\n",
        "idx = random.randint(0, len(doors)-1)\n",
        "if doors[idx] == 1:\n",
        "    print(\"中獎\")\n",
        "else:\n",
        "    print(\"沒中獎\")"
      ],
      "metadata": {
        "id": "hQCfpLAjCaGr",
        "colab": {
          "base_uri": "https://localhost:8080/"
        },
        "outputId": "334673d2-17fc-4d28-fe0e-3a419a5a99e6"
      },
      "execution_count": null,
      "outputs": [
        {
          "output_type": "stream",
          "name": "stdout",
          "text": [
            "準備的門: [0, 0, 1, 0]\n",
            "3\n",
            "選到的門: 0\n",
            "剩下的門: [0, 0, 1]\n",
            "剩下的門: [0, 1]\n",
            "沒中獎\n"
          ]
        }
      ]
    },
    {
      "cell_type": "code",
      "source": [
        "import random\n",
        "total = 100000\n",
        "win, lose =0, 0\n",
        "n = 4\n",
        "for i in range(total):\n",
        "    # 準備n個門[0和1] 0:沒有中獎 1:中獎\n",
        "    doors = [0] * (n-1)\n",
        "    idx = random.randint(0, len(doors)-1)\n",
        "    # insert(插入位置, 插入的值)\n",
        "    doors.insert(idx, 1)\n",
        "    #print(\"準備的門:\", doors)\n",
        "    # 隨機選一個門(random)(x)\n",
        "    idx = random.randint(0, len(doors)-1)\n",
        "    # insert(插入位置, 插入的值))\n",
        "    #print(\"選到的門:\", doors[idx])\n",
        "    # pop(idx): 刪除那個 index pop(): 刪除最後一個\n",
        "    doors.pop(idx)\n",
        "    #print(\"剩下的門:\", doors)\n",
        "    # del doors[idx]\n",
        "    # 在剩下的門裡面，主持人開一個沒有獎的\n",
        "    # remove(值):從左到右找到第一個吻合的值並且移除\n",
        "    doors.remove(0)\n",
        "    #print(\"剩下的門:\", doors)\n",
        "    # 扣除剛剛那兩道以後，再選一個帶回家\n",
        "    idx = random.randint(0, len(doors)-1)\n",
        "    if doors[idx] == 1:\n",
        "        #print(\"中獎\")\n",
        "        win = win + 1\n",
        "    else:\n",
        "        #print(\"沒中獎\")\n",
        "        lose = lose + 1\n",
        "ratio = win / total\n",
        "print(\"贏的機率是:\", ratio)"
      ],
      "metadata": {
        "id": "unsEkpAs-hPy",
        "colab": {
          "base_uri": "https://localhost:8080/"
        },
        "outputId": "3260fb36-7b3c-4187-db4f-6177e246af41"
      },
      "execution_count": null,
      "outputs": [
        {
          "output_type": "stream",
          "name": "stdout",
          "text": [
            "贏的機率是: 0.37477\n"
          ]
        }
      ]
    },
    {
      "cell_type": "markdown",
      "source": [
        "alt = 多行註解 /\n",
        "tab /\n",
        "shift tab"
      ],
      "metadata": {
        "id": "xf4aYOixDp9F"
      }
    },
    {
      "cell_type": "code",
      "source": [
        "weight = 80\n",
        "height = 175\n",
        "# 定義參數 : 預先定義一個參數代號 / 名稱\n",
        "# 定義回傳值 : return, 你沒有寫 return 就相當於寫 return None\n",
        "def calculate_bmi(w, h, d=2):\n",
        "    bmi = w / (h / 100) ** 2\n",
        "    # d -> 小數點兩位\n",
        "    return round(bmi, d)\n",
        "\n",
        "print(calculate_bmi(weight, height, 4))\n",
        "print(calculate_bmi(weight, height))"
      ],
      "metadata": {
        "id": "QzAFtUU3-hS6",
        "colab": {
          "base_uri": "https://localhost:8080/"
        },
        "outputId": "8b26e01c-a70f-4396-85c8-9b1b140c5743"
      },
      "execution_count": null,
      "outputs": [
        {
          "output_type": "stream",
          "name": "stdout",
          "text": [
            "26.1224\n",
            "26.12\n"
          ]
        }
      ]
    },
    {
      "cell_type": "code",
      "source": [
        "# 物件導向: 自訂型態\n",
        "class Person :\n",
        "    pass\n",
        "# 一個型態可以擁有的兩個東西\n",
        "# 1. 專屬功能: 人.吃飯()\n",
        "# 2. 專屬值: 人, 身高\n",
        "# int() str() lis()\n",
        "p1 = Person()\n",
        "p1.weight = 80\n",
        "p1.height = 180\n",
        "print(type(p1))\n",
        "\n",
        "# 定義參數 : 預先定義一個參數代號 / 名稱\n",
        "# 定義回傳值 : return, 你沒有寫 return 就相當於寫 return None\n",
        "def calculate_bmi(w, h, d=2):\n",
        "    bmi = w / (h / 100) ** 2\n",
        "    return round(bmi, d)\n",
        "print(calculate_bmi(p1.height, p1.weight))"
      ],
      "metadata": {
        "id": "0E8UMiD_-8On",
        "colab": {
          "base_uri": "https://localhost:8080/"
        },
        "outputId": "219666f6-9b48-4da8-d643-c6760504dd84"
      },
      "execution_count": null,
      "outputs": [
        {
          "output_type": "stream",
          "name": "stdout",
          "text": [
            "<class '__main__.Person'>\n",
            "281.25\n"
          ]
        }
      ]
    },
    {
      "cell_type": "code",
      "source": [
        "# 物件導向: 自訂型態\n",
        "class Person :\n",
        "\n",
        "    def set_data(self, w, h):\n",
        "        self.weight = w\n",
        "        self.height = h\n",
        "\n",
        "    def calculate_bmi(self, d=2):\n",
        "        bmi = self.weight / (self.height / 100) ** 2\n",
        "        return round(bmi, d)\n",
        "p1 = Person()\n",
        "p1.set_data(80, 175)\n",
        "print(p1.calculate_bmi(d=4))"
      ],
      "metadata": {
        "id": "n-3J9NUx-8Tr",
        "colab": {
          "base_uri": "https://localhost:8080/"
        },
        "outputId": "531c1d5c-f229-4ec5-c8bd-53702849396c"
      },
      "execution_count": null,
      "outputs": [
        {
          "output_type": "stream",
          "name": "stdout",
          "text": [
            "26.1224\n"
          ]
        }
      ]
    },
    {
      "cell_type": "code",
      "source": [
        "# 物件導向: 自訂型態\n",
        "class Person :\n",
        "\n",
        "    def __init__(self, w, h):\n",
        "        self.weight = w\n",
        "        self.height = h\n",
        "\n",
        "    def calculate_bmi(self, d=2):\n",
        "        bmi = self.weight / (self.height / 100) ** 2\n",
        "        return round(bmi, d)\n",
        "p1 = Person(80,175)\n",
        "print(p1.calculate_bmi(d=4))"
      ],
      "metadata": {
        "id": "nTjful00-8Wy"
      },
      "execution_count": null,
      "outputs": []
    },
    {
      "cell_type": "code",
      "source": [
        "# 物件導向: 自訂型態\n",
        "class Person :\n",
        "\n",
        "    def __init__(self, w, h):\n",
        "        self.weight = w\n",
        "        self.height = h\n",
        "\n",
        "    def calculate_bmi(self, d=2):\n",
        "        bmi = self.weight / (self.height / 100) ** 2\n",
        "        return round(bmi, d)\n",
        "\n",
        "    def __str__(self):\n",
        "        return \"[weight]:{} [height]:{}\".format(self.weight,\n",
        "                             self.height)\n",
        "\n",
        "    def __eq__(self, other):\n",
        "        return (self.height == other.height and\n",
        "                self.weight == other.weight)\n",
        "\n",
        "p1 = Person(80,175)\n",
        "print(p1.calculate_bmi(d=4))\n",
        "p2 = Person(80, 175)\n",
        "# print(p1) -> p1轉換成字串 -> str(p1) -> p1.__str__()\n",
        "print(p1)\n",
        "print(p2)\n",
        "# p1 == p2 -> p1.__eq__(p2)\n",
        "print(p1 == p2)\n"
      ],
      "metadata": {
        "id": "3gVtrw4E-8Zm",
        "colab": {
          "base_uri": "https://localhost:8080/"
        },
        "outputId": "c6087d33-e3a7-4a64-bf51-b2685b73366c"
      },
      "execution_count": null,
      "outputs": [
        {
          "output_type": "stream",
          "name": "stdout",
          "text": [
            "26.1224\n",
            "[weight]:80 [height]:175\n",
            "[weight]:80 [height]:175\n",
            "True\n"
          ]
        }
      ]
    }
  ]
}